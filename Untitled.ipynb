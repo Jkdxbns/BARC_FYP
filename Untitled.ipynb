{
 "cells": [
  {
   "cell_type": "code",
   "execution_count": 1,
   "id": "912cec35-3368-4881-818b-d7f44bc7dc9c",
   "metadata": {},
   "outputs": [
    {
     "name": "stderr",
     "output_type": "stream",
     "text": [
      "Downloading: \"https://github.com/intel-isl/MiDaS/zipball/master\" to C:\\Users\\anayl/.cache\\torch\\hub\\master.zip\n"
     ]
    },
    {
     "data": {
      "text/plain": [
       "' # This docstring shows up in hub.help()\\n    MiDaS DPT_BEiT_L_384 model for monocular depth estimation\\n    pretrained (bool): load pretrained weights into model\\n    '"
      ]
     },
     "execution_count": 1,
     "metadata": {},
     "output_type": "execute_result"
    }
   ],
   "source": [
    "import torch\n",
    "\n",
    "torch.hub.help(\"intel-isl/MiDaS\", \"DPT_BEiT_L_384\", force_reload=True)  # Triggers fresh download of MiDaS repo"
   ]
  },
  {
   "cell_type": "code",
   "execution_count": 3,
   "id": "f765f4fb-f4f3-44d7-8fb0-515cc9fd5f61",
   "metadata": {},
   "outputs": [
    {
     "name": "stdout",
     "output_type": "stream",
     "text": [
      "Collecting timm==0.6.7\n",
      "  Downloading timm-0.6.7-py3-none-any.whl (509 kB)\n",
      "     ---------------------------------------- 0.0/510.0 kB ? eta -:--:--\n",
      "     ---------------------- --------------- 307.2/510.0 kB 9.6 MB/s eta 0:00:01\n",
      "     -------------------------------------- 510.0/510.0 kB 8.1 MB/s eta 0:00:00\n",
      "Requirement already satisfied: torchvision in c:\\users\\anayl\\appdata\\local\\programs\\python\\python310\\lib\\site-packages (from timm==0.6.7) (0.16.0)\n",
      "Requirement already satisfied: torch>=1.4 in c:\\users\\anayl\\appdata\\local\\programs\\python\\python310\\lib\\site-packages (from timm==0.6.7) (2.1.0+cu121)\n",
      "Requirement already satisfied: jinja2 in c:\\users\\anayl\\appdata\\local\\programs\\python\\python310\\lib\\site-packages (from torch>=1.4->timm==0.6.7) (3.1.2)\n",
      "Requirement already satisfied: sympy in c:\\users\\anayl\\appdata\\local\\programs\\python\\python310\\lib\\site-packages (from torch>=1.4->timm==0.6.7) (1.12)\n",
      "Requirement already satisfied: filelock in c:\\users\\anayl\\appdata\\local\\programs\\python\\python310\\lib\\site-packages (from torch>=1.4->timm==0.6.7) (3.12.4)\n",
      "Requirement already satisfied: fsspec in c:\\users\\anayl\\appdata\\local\\programs\\python\\python310\\lib\\site-packages (from torch>=1.4->timm==0.6.7) (2023.9.2)\n",
      "Requirement already satisfied: typing-extensions in c:\\users\\anayl\\appdata\\local\\programs\\python\\python310\\lib\\site-packages (from torch>=1.4->timm==0.6.7) (4.8.0)\n",
      "Requirement already satisfied: networkx in c:\\users\\anayl\\appdata\\local\\programs\\python\\python310\\lib\\site-packages (from torch>=1.4->timm==0.6.7) (3.1)\n",
      "Requirement already satisfied: numpy in c:\\users\\anayl\\appdata\\local\\programs\\python\\python310\\lib\\site-packages (from torchvision->timm==0.6.7) (1.24.3)\n",
      "Requirement already satisfied: requests in c:\\users\\anayl\\appdata\\local\\programs\\python\\python310\\lib\\site-packages (from torchvision->timm==0.6.7) (2.31.0)\n",
      "Requirement already satisfied: pillow!=8.3.*,>=5.3.0 in c:\\users\\anayl\\appdata\\local\\programs\\python\\python310\\lib\\site-packages (from torchvision->timm==0.6.7) (10.0.1)\n",
      "Requirement already satisfied: MarkupSafe>=2.0 in c:\\users\\anayl\\appdata\\local\\programs\\python\\python310\\lib\\site-packages (from jinja2->torch>=1.4->timm==0.6.7) (2.1.3)\n",
      "Requirement already satisfied: idna<4,>=2.5 in c:\\users\\anayl\\appdata\\local\\programs\\python\\python310\\lib\\site-packages (from requests->torchvision->timm==0.6.7) (3.4)\n",
      "Requirement already satisfied: charset-normalizer<4,>=2 in c:\\users\\anayl\\appdata\\local\\programs\\python\\python310\\lib\\site-packages (from requests->torchvision->timm==0.6.7) (3.3.0)\n",
      "Requirement already satisfied: urllib3<3,>=1.21.1 in c:\\users\\anayl\\appdata\\local\\programs\\python\\python310\\lib\\site-packages (from requests->torchvision->timm==0.6.7) (1.26.16)\n",
      "Requirement already satisfied: certifi>=2017.4.17 in c:\\users\\anayl\\appdata\\local\\programs\\python\\python310\\lib\\site-packages (from requests->torchvision->timm==0.6.7) (2023.7.22)\n",
      "Requirement already satisfied: mpmath>=0.19 in c:\\users\\anayl\\appdata\\local\\programs\\python\\python310\\lib\\site-packages (from sympy->torch>=1.4->timm==0.6.7) (1.3.0)\n",
      "Installing collected packages: timm\n",
      "  Attempting uninstall: timm\n",
      "    Found existing installation: timm 0.9.8\n",
      "    Uninstalling timm-0.9.8:\n",
      "      Successfully uninstalled timm-0.9.8\n",
      "Successfully installed timm-0.6.7\n"
     ]
    },
    {
     "name": "stderr",
     "output_type": "stream",
     "text": [
      "\n",
      "[notice] A new release of pip is available: 23.0.1 -> 23.3.1\n",
      "[notice] To update, run: python.exe -m pip install --upgrade pip\n"
     ]
    }
   ],
   "source": [
    "!pip install timm==0.6.7"
   ]
  },
  {
   "cell_type": "code",
   "execution_count": 4,
   "id": "49d10bf8-f1d5-41d8-81e5-90747fd44499",
   "metadata": {},
   "outputs": [
    {
     "name": "stderr",
     "output_type": "stream",
     "text": [
      "Using cache found in C:\\Users\\anayl/.cache\\torch\\hub\\isl-org_ZoeDepth_main\n"
     ]
    },
    {
     "name": "stdout",
     "output_type": "stream",
     "text": [
      "img_size [384, 512]\n"
     ]
    },
    {
     "name": "stderr",
     "output_type": "stream",
     "text": [
      "Using cache found in C:\\Users\\anayl/.cache\\torch\\hub\\intel-isl_MiDaS_master\n"
     ]
    },
    {
     "name": "stdout",
     "output_type": "stream",
     "text": [
      "Params passed to Resize transform:\n",
      "\twidth:  512\n",
      "\theight:  384\n",
      "\tresize_target:  True\n",
      "\tkeep_aspect_ratio:  True\n",
      "\tensure_multiple_of:  32\n",
      "\tresize_method:  minimal\n",
      "Using pretrained resource url::https://github.com/isl-org/ZoeDepth/releases/download/v1.0/ZoeD_M12_N.pt\n"
     ]
    },
    {
     "ename": "RuntimeError",
     "evalue": "Error(s) in loading state_dict for ZoeDepth:\n\tUnexpected key(s) in state_dict: \"core.core.pretrained.model.blocks.0.attn.relative_position_index\", \"core.core.pretrained.model.blocks.1.attn.relative_position_index\", \"core.core.pretrained.model.blocks.2.attn.relative_position_index\", \"core.core.pretrained.model.blocks.3.attn.relative_position_index\", \"core.core.pretrained.model.blocks.4.attn.relative_position_index\", \"core.core.pretrained.model.blocks.5.attn.relative_position_index\", \"core.core.pretrained.model.blocks.6.attn.relative_position_index\", \"core.core.pretrained.model.blocks.7.attn.relative_position_index\", \"core.core.pretrained.model.blocks.8.attn.relative_position_index\", \"core.core.pretrained.model.blocks.9.attn.relative_position_index\", \"core.core.pretrained.model.blocks.10.attn.relative_position_index\", \"core.core.pretrained.model.blocks.11.attn.relative_position_index\", \"core.core.pretrained.model.blocks.12.attn.relative_position_index\", \"core.core.pretrained.model.blocks.13.attn.relative_position_index\", \"core.core.pretrained.model.blocks.14.attn.relative_position_index\", \"core.core.pretrained.model.blocks.15.attn.relative_position_index\", \"core.core.pretrained.model.blocks.16.attn.relative_position_index\", \"core.core.pretrained.model.blocks.17.attn.relative_position_index\", \"core.core.pretrained.model.blocks.18.attn.relative_position_index\", \"core.core.pretrained.model.blocks.19.attn.relative_position_index\", \"core.core.pretrained.model.blocks.20.attn.relative_position_index\", \"core.core.pretrained.model.blocks.21.attn.relative_position_index\", \"core.core.pretrained.model.blocks.22.attn.relative_position_index\", \"core.core.pretrained.model.blocks.23.attn.relative_position_index\". ",
     "output_type": "error",
     "traceback": [
      "\u001b[1;31m---------------------------------------------------------------------------\u001b[0m",
      "\u001b[1;31mRuntimeError\u001b[0m                              Traceback (most recent call last)",
      "Cell \u001b[1;32mIn[4], line 3\u001b[0m\n\u001b[0;32m      1\u001b[0m repo \u001b[38;5;241m=\u001b[39m \u001b[38;5;124m\"\u001b[39m\u001b[38;5;124misl-org/ZoeDepth\u001b[39m\u001b[38;5;124m\"\u001b[39m\n\u001b[0;32m      2\u001b[0m \u001b[38;5;66;03m# Zoe_N\u001b[39;00m\n\u001b[1;32m----> 3\u001b[0m model_zoe_n \u001b[38;5;241m=\u001b[39m \u001b[43mtorch\u001b[49m\u001b[38;5;241;43m.\u001b[39;49m\u001b[43mhub\u001b[49m\u001b[38;5;241;43m.\u001b[39;49m\u001b[43mload\u001b[49m\u001b[43m(\u001b[49m\u001b[43mrepo\u001b[49m\u001b[43m,\u001b[49m\u001b[43m \u001b[49m\u001b[38;5;124;43m\"\u001b[39;49m\u001b[38;5;124;43mZoeD_N\u001b[39;49m\u001b[38;5;124;43m\"\u001b[39;49m\u001b[43m,\u001b[49m\u001b[43m \u001b[49m\u001b[43mpretrained\u001b[49m\u001b[38;5;241;43m=\u001b[39;49m\u001b[38;5;28;43;01mTrue\u001b[39;49;00m\u001b[43m)\u001b[49m\n\u001b[0;32m      5\u001b[0m \u001b[38;5;66;03m# Zoe_K\u001b[39;00m\n\u001b[0;32m      6\u001b[0m model_zoe_k \u001b[38;5;241m=\u001b[39m torch\u001b[38;5;241m.\u001b[39mhub\u001b[38;5;241m.\u001b[39mload(repo, \u001b[38;5;124m\"\u001b[39m\u001b[38;5;124mZoeD_K\u001b[39m\u001b[38;5;124m\"\u001b[39m, pretrained\u001b[38;5;241m=\u001b[39m\u001b[38;5;28;01mTrue\u001b[39;00m)\n",
      "File \u001b[1;32m~\\AppData\\Local\\Programs\\Python\\Python310\\lib\\site-packages\\torch\\hub.py:566\u001b[0m, in \u001b[0;36mload\u001b[1;34m(repo_or_dir, model, source, trust_repo, force_reload, verbose, skip_validation, *args, **kwargs)\u001b[0m\n\u001b[0;32m    562\u001b[0m \u001b[38;5;28;01mif\u001b[39;00m source \u001b[38;5;241m==\u001b[39m \u001b[38;5;124m'\u001b[39m\u001b[38;5;124mgithub\u001b[39m\u001b[38;5;124m'\u001b[39m:\n\u001b[0;32m    563\u001b[0m     repo_or_dir \u001b[38;5;241m=\u001b[39m _get_cache_or_reload(repo_or_dir, force_reload, trust_repo, \u001b[38;5;124m\"\u001b[39m\u001b[38;5;124mload\u001b[39m\u001b[38;5;124m\"\u001b[39m,\n\u001b[0;32m    564\u001b[0m                                        verbose\u001b[38;5;241m=\u001b[39mverbose, skip_validation\u001b[38;5;241m=\u001b[39mskip_validation)\n\u001b[1;32m--> 566\u001b[0m model \u001b[38;5;241m=\u001b[39m _load_local(repo_or_dir, model, \u001b[38;5;241m*\u001b[39margs, \u001b[38;5;241m*\u001b[39m\u001b[38;5;241m*\u001b[39mkwargs)\n\u001b[0;32m    567\u001b[0m \u001b[38;5;28;01mreturn\u001b[39;00m model\n",
      "File \u001b[1;32m~\\AppData\\Local\\Programs\\Python\\Python310\\lib\\site-packages\\torch\\hub.py:595\u001b[0m, in \u001b[0;36m_load_local\u001b[1;34m(hubconf_dir, model, *args, **kwargs)\u001b[0m\n\u001b[0;32m    592\u001b[0m     hub_module \u001b[38;5;241m=\u001b[39m _import_module(MODULE_HUBCONF, hubconf_path)\n\u001b[0;32m    594\u001b[0m     entry \u001b[38;5;241m=\u001b[39m _load_entry_from_hubconf(hub_module, model)\n\u001b[1;32m--> 595\u001b[0m     model \u001b[38;5;241m=\u001b[39m entry(\u001b[38;5;241m*\u001b[39margs, \u001b[38;5;241m*\u001b[39m\u001b[38;5;241m*\u001b[39mkwargs)\n\u001b[0;32m    597\u001b[0m \u001b[38;5;28;01mreturn\u001b[39;00m model\n",
      "File \u001b[1;32m~/.cache\\torch\\hub\\isl-org_ZoeDepth_main\\hubconf.py:69\u001b[0m, in \u001b[0;36mZoeD_N\u001b[1;34m(pretrained, midas_model_type, config_mode, **kwargs)\u001b[0m\n\u001b[0;32m     66\u001b[0m     pretrained_resource \u001b[38;5;241m=\u001b[39m \u001b[38;5;124m\"\u001b[39m\u001b[38;5;124murl::https://github.com/isl-org/ZoeDepth/releases/download/v1.0/ZoeD_M12_N.pt\u001b[39m\u001b[38;5;124m\"\u001b[39m\n\u001b[0;32m     68\u001b[0m config \u001b[38;5;241m=\u001b[39m get_config(\u001b[38;5;124m\"\u001b[39m\u001b[38;5;124mzoedepth\u001b[39m\u001b[38;5;124m\"\u001b[39m, config_mode, pretrained_resource\u001b[38;5;241m=\u001b[39mpretrained_resource, \u001b[38;5;241m*\u001b[39m\u001b[38;5;241m*\u001b[39mkwargs)\n\u001b[1;32m---> 69\u001b[0m model \u001b[38;5;241m=\u001b[39m \u001b[43mbuild_model\u001b[49m\u001b[43m(\u001b[49m\u001b[43mconfig\u001b[49m\u001b[43m)\u001b[49m\n\u001b[0;32m     70\u001b[0m \u001b[38;5;28;01mreturn\u001b[39;00m model\n",
      "File \u001b[1;32m~/.cache\\torch\\hub\\isl-org_ZoeDepth_main\\zoedepth\\models\\builder.py:51\u001b[0m, in \u001b[0;36mbuild_model\u001b[1;34m(config)\u001b[0m\n\u001b[0;32m     48\u001b[0m \u001b[38;5;28;01mexcept\u001b[39;00m \u001b[38;5;167;01mAttributeError\u001b[39;00m \u001b[38;5;28;01mas\u001b[39;00m e:\n\u001b[0;32m     49\u001b[0m     \u001b[38;5;28;01mraise\u001b[39;00m \u001b[38;5;167;01mValueError\u001b[39;00m(\n\u001b[0;32m     50\u001b[0m         \u001b[38;5;124mf\u001b[39m\u001b[38;5;124m\"\u001b[39m\u001b[38;5;124mModel \u001b[39m\u001b[38;5;132;01m{\u001b[39;00mconfig\u001b[38;5;241m.\u001b[39mmodel\u001b[38;5;132;01m}\u001b[39;00m\u001b[38;5;124m has no get_version function.\u001b[39m\u001b[38;5;124m\"\u001b[39m) \u001b[38;5;28;01mfrom\u001b[39;00m \u001b[38;5;21;01me\u001b[39;00m\n\u001b[1;32m---> 51\u001b[0m \u001b[38;5;28;01mreturn\u001b[39;00m \u001b[43mget_version\u001b[49m\u001b[43m(\u001b[49m\u001b[43mconfig\u001b[49m\u001b[38;5;241;43m.\u001b[39;49m\u001b[43mversion_name\u001b[49m\u001b[43m)\u001b[49m\u001b[38;5;241;43m.\u001b[39;49m\u001b[43mbuild_from_config\u001b[49m\u001b[43m(\u001b[49m\u001b[43mconfig\u001b[49m\u001b[43m)\u001b[49m\n",
      "File \u001b[1;32m~/.cache\\torch\\hub\\isl-org_ZoeDepth_main\\zoedepth\\models\\zoedepth\\zoedepth_v1.py:250\u001b[0m, in \u001b[0;36mZoeDepth.build_from_config\u001b[1;34m(config)\u001b[0m\n\u001b[0;32m    248\u001b[0m \u001b[38;5;129m@staticmethod\u001b[39m\n\u001b[0;32m    249\u001b[0m \u001b[38;5;28;01mdef\u001b[39;00m \u001b[38;5;21mbuild_from_config\u001b[39m(config):\n\u001b[1;32m--> 250\u001b[0m     \u001b[38;5;28;01mreturn\u001b[39;00m ZoeDepth\u001b[38;5;241m.\u001b[39mbuild(\u001b[38;5;241m*\u001b[39m\u001b[38;5;241m*\u001b[39mconfig)\n",
      "File \u001b[1;32m~/.cache\\torch\\hub\\isl-org_ZoeDepth_main\\zoedepth\\models\\zoedepth\\zoedepth_v1.py:245\u001b[0m, in \u001b[0;36mZoeDepth.build\u001b[1;34m(midas_model_type, pretrained_resource, use_pretrained_midas, train_midas, freeze_midas_bn, **kwargs)\u001b[0m\n\u001b[0;32m    243\u001b[0m \u001b[38;5;28;01mif\u001b[39;00m pretrained_resource:\n\u001b[0;32m    244\u001b[0m     \u001b[38;5;28;01massert\u001b[39;00m \u001b[38;5;28misinstance\u001b[39m(pretrained_resource, \u001b[38;5;28mstr\u001b[39m), \u001b[38;5;124m\"\u001b[39m\u001b[38;5;124mpretrained_resource must be a string\u001b[39m\u001b[38;5;124m\"\u001b[39m\n\u001b[1;32m--> 245\u001b[0m     model \u001b[38;5;241m=\u001b[39m \u001b[43mload_state_from_resource\u001b[49m\u001b[43m(\u001b[49m\u001b[43mmodel\u001b[49m\u001b[43m,\u001b[49m\u001b[43m \u001b[49m\u001b[43mpretrained_resource\u001b[49m\u001b[43m)\u001b[49m\n\u001b[0;32m    246\u001b[0m \u001b[38;5;28;01mreturn\u001b[39;00m model\n",
      "File \u001b[1;32m~/.cache\\torch\\hub\\isl-org_ZoeDepth_main\\zoedepth\\models\\model_io.py:84\u001b[0m, in \u001b[0;36mload_state_from_resource\u001b[1;34m(model, resource)\u001b[0m\n\u001b[0;32m     82\u001b[0m \u001b[38;5;28;01mif\u001b[39;00m resource\u001b[38;5;241m.\u001b[39mstartswith(\u001b[38;5;124m'\u001b[39m\u001b[38;5;124murl::\u001b[39m\u001b[38;5;124m'\u001b[39m):\n\u001b[0;32m     83\u001b[0m     url \u001b[38;5;241m=\u001b[39m resource\u001b[38;5;241m.\u001b[39msplit(\u001b[38;5;124m'\u001b[39m\u001b[38;5;124murl::\u001b[39m\u001b[38;5;124m'\u001b[39m)[\u001b[38;5;241m1\u001b[39m]\n\u001b[1;32m---> 84\u001b[0m     \u001b[38;5;28;01mreturn\u001b[39;00m \u001b[43mload_state_dict_from_url\u001b[49m\u001b[43m(\u001b[49m\u001b[43mmodel\u001b[49m\u001b[43m,\u001b[49m\u001b[43m \u001b[49m\u001b[43murl\u001b[49m\u001b[43m,\u001b[49m\u001b[43m \u001b[49m\u001b[43mprogress\u001b[49m\u001b[38;5;241;43m=\u001b[39;49m\u001b[38;5;28;43;01mTrue\u001b[39;49;00m\u001b[43m)\u001b[49m\n\u001b[0;32m     86\u001b[0m \u001b[38;5;28;01melif\u001b[39;00m resource\u001b[38;5;241m.\u001b[39mstartswith(\u001b[38;5;124m'\u001b[39m\u001b[38;5;124mlocal::\u001b[39m\u001b[38;5;124m'\u001b[39m):\n\u001b[0;32m     87\u001b[0m     path \u001b[38;5;241m=\u001b[39m resource\u001b[38;5;241m.\u001b[39msplit(\u001b[38;5;124m'\u001b[39m\u001b[38;5;124mlocal::\u001b[39m\u001b[38;5;124m'\u001b[39m)[\u001b[38;5;241m1\u001b[39m]\n",
      "File \u001b[1;32m~/.cache\\torch\\hub\\isl-org_ZoeDepth_main\\zoedepth\\models\\model_io.py:61\u001b[0m, in \u001b[0;36mload_state_dict_from_url\u001b[1;34m(model, url, **kwargs)\u001b[0m\n\u001b[0;32m     59\u001b[0m \u001b[38;5;28;01mdef\u001b[39;00m \u001b[38;5;21mload_state_dict_from_url\u001b[39m(model, url, \u001b[38;5;241m*\u001b[39m\u001b[38;5;241m*\u001b[39mkwargs):\n\u001b[0;32m     60\u001b[0m     state_dict \u001b[38;5;241m=\u001b[39m torch\u001b[38;5;241m.\u001b[39mhub\u001b[38;5;241m.\u001b[39mload_state_dict_from_url(url, map_location\u001b[38;5;241m=\u001b[39m\u001b[38;5;124m'\u001b[39m\u001b[38;5;124mcpu\u001b[39m\u001b[38;5;124m'\u001b[39m, \u001b[38;5;241m*\u001b[39m\u001b[38;5;241m*\u001b[39mkwargs)\n\u001b[1;32m---> 61\u001b[0m     \u001b[38;5;28;01mreturn\u001b[39;00m \u001b[43mload_state_dict\u001b[49m\u001b[43m(\u001b[49m\u001b[43mmodel\u001b[49m\u001b[43m,\u001b[49m\u001b[43m \u001b[49m\u001b[43mstate_dict\u001b[49m\u001b[43m)\u001b[49m\n",
      "File \u001b[1;32m~/.cache\\torch\\hub\\isl-org_ZoeDepth_main\\zoedepth\\models\\model_io.py:49\u001b[0m, in \u001b[0;36mload_state_dict\u001b[1;34m(model, state_dict)\u001b[0m\n\u001b[0;32m     45\u001b[0m         k \u001b[38;5;241m=\u001b[39m \u001b[38;5;124m'\u001b[39m\u001b[38;5;124mmodule.\u001b[39m\u001b[38;5;124m'\u001b[39m \u001b[38;5;241m+\u001b[39m k\n\u001b[0;32m     47\u001b[0m     state[k] \u001b[38;5;241m=\u001b[39m v\n\u001b[1;32m---> 49\u001b[0m \u001b[43mmodel\u001b[49m\u001b[38;5;241;43m.\u001b[39;49m\u001b[43mload_state_dict\u001b[49m\u001b[43m(\u001b[49m\u001b[43mstate\u001b[49m\u001b[43m)\u001b[49m\n\u001b[0;32m     50\u001b[0m \u001b[38;5;28mprint\u001b[39m(\u001b[38;5;124m\"\u001b[39m\u001b[38;5;124mLoaded successfully\u001b[39m\u001b[38;5;124m\"\u001b[39m)\n\u001b[0;32m     51\u001b[0m \u001b[38;5;28;01mreturn\u001b[39;00m model\n",
      "File \u001b[1;32m~\\AppData\\Local\\Programs\\Python\\Python310\\lib\\site-packages\\torch\\nn\\modules\\module.py:2152\u001b[0m, in \u001b[0;36mModule.load_state_dict\u001b[1;34m(self, state_dict, strict, assign)\u001b[0m\n\u001b[0;32m   2147\u001b[0m         error_msgs\u001b[38;5;241m.\u001b[39minsert(\n\u001b[0;32m   2148\u001b[0m             \u001b[38;5;241m0\u001b[39m, \u001b[38;5;124m'\u001b[39m\u001b[38;5;124mMissing key(s) in state_dict: \u001b[39m\u001b[38;5;132;01m{}\u001b[39;00m\u001b[38;5;124m. \u001b[39m\u001b[38;5;124m'\u001b[39m\u001b[38;5;241m.\u001b[39mformat(\n\u001b[0;32m   2149\u001b[0m                 \u001b[38;5;124m'\u001b[39m\u001b[38;5;124m, \u001b[39m\u001b[38;5;124m'\u001b[39m\u001b[38;5;241m.\u001b[39mjoin(\u001b[38;5;124mf\u001b[39m\u001b[38;5;124m'\u001b[39m\u001b[38;5;124m\"\u001b[39m\u001b[38;5;132;01m{\u001b[39;00mk\u001b[38;5;132;01m}\u001b[39;00m\u001b[38;5;124m\"\u001b[39m\u001b[38;5;124m'\u001b[39m \u001b[38;5;28;01mfor\u001b[39;00m k \u001b[38;5;129;01min\u001b[39;00m missing_keys)))\n\u001b[0;32m   2151\u001b[0m \u001b[38;5;28;01mif\u001b[39;00m \u001b[38;5;28mlen\u001b[39m(error_msgs) \u001b[38;5;241m>\u001b[39m \u001b[38;5;241m0\u001b[39m:\n\u001b[1;32m-> 2152\u001b[0m     \u001b[38;5;28;01mraise\u001b[39;00m \u001b[38;5;167;01mRuntimeError\u001b[39;00m(\u001b[38;5;124m'\u001b[39m\u001b[38;5;124mError(s) in loading state_dict for \u001b[39m\u001b[38;5;132;01m{}\u001b[39;00m\u001b[38;5;124m:\u001b[39m\u001b[38;5;130;01m\\n\u001b[39;00m\u001b[38;5;130;01m\\t\u001b[39;00m\u001b[38;5;132;01m{}\u001b[39;00m\u001b[38;5;124m'\u001b[39m\u001b[38;5;241m.\u001b[39mformat(\n\u001b[0;32m   2153\u001b[0m                        \u001b[38;5;28mself\u001b[39m\u001b[38;5;241m.\u001b[39m\u001b[38;5;18m__class__\u001b[39m\u001b[38;5;241m.\u001b[39m\u001b[38;5;18m__name__\u001b[39m, \u001b[38;5;124m\"\u001b[39m\u001b[38;5;130;01m\\n\u001b[39;00m\u001b[38;5;130;01m\\t\u001b[39;00m\u001b[38;5;124m\"\u001b[39m\u001b[38;5;241m.\u001b[39mjoin(error_msgs)))\n\u001b[0;32m   2154\u001b[0m \u001b[38;5;28;01mreturn\u001b[39;00m _IncompatibleKeys(missing_keys, unexpected_keys)\n",
      "\u001b[1;31mRuntimeError\u001b[0m: Error(s) in loading state_dict for ZoeDepth:\n\tUnexpected key(s) in state_dict: \"core.core.pretrained.model.blocks.0.attn.relative_position_index\", \"core.core.pretrained.model.blocks.1.attn.relative_position_index\", \"core.core.pretrained.model.blocks.2.attn.relative_position_index\", \"core.core.pretrained.model.blocks.3.attn.relative_position_index\", \"core.core.pretrained.model.blocks.4.attn.relative_position_index\", \"core.core.pretrained.model.blocks.5.attn.relative_position_index\", \"core.core.pretrained.model.blocks.6.attn.relative_position_index\", \"core.core.pretrained.model.blocks.7.attn.relative_position_index\", \"core.core.pretrained.model.blocks.8.attn.relative_position_index\", \"core.core.pretrained.model.blocks.9.attn.relative_position_index\", \"core.core.pretrained.model.blocks.10.attn.relative_position_index\", \"core.core.pretrained.model.blocks.11.attn.relative_position_index\", \"core.core.pretrained.model.blocks.12.attn.relative_position_index\", \"core.core.pretrained.model.blocks.13.attn.relative_position_index\", \"core.core.pretrained.model.blocks.14.attn.relative_position_index\", \"core.core.pretrained.model.blocks.15.attn.relative_position_index\", \"core.core.pretrained.model.blocks.16.attn.relative_position_index\", \"core.core.pretrained.model.blocks.17.attn.relative_position_index\", \"core.core.pretrained.model.blocks.18.attn.relative_position_index\", \"core.core.pretrained.model.blocks.19.attn.relative_position_index\", \"core.core.pretrained.model.blocks.20.attn.relative_position_index\", \"core.core.pretrained.model.blocks.21.attn.relative_position_index\", \"core.core.pretrained.model.blocks.22.attn.relative_position_index\", \"core.core.pretrained.model.blocks.23.attn.relative_position_index\". "
     ]
    }
   ],
   "source": [
    "repo = \"isl-org/ZoeDepth\"\n",
    "# Zoe_N\n",
    "model_zoe_n = torch.hub.load(repo, \"ZoeD_N\", pretrained=True)\n",
    "\n",
    "# Zoe_K\n",
    "model_zoe_k = torch.hub.load(repo, \"ZoeD_K\", pretrained=True)\n",
    "\n",
    "# Zoe_NK\n",
    "model_zoe_nk = torch.hub.load(repo, \"ZoeD_NK\", pretrained=True)"
   ]
  },
  {
   "cell_type": "code",
   "execution_count": null,
   "id": "dc3dd095-06cf-41d4-a3c1-8b4c228fbac7",
   "metadata": {},
   "outputs": [],
   "source": [
    "DEVICE = \"cuda\" if torch.cuda.is_available() else \"cpu\"\n",
    "zoe = model_zoe_n.to(DEVICE)\n",
    "\n",
    "\n",
    "# Local file\n",
    "from PIL import Image\n",
    "image = Image.open(\"42.00_13.50_3.53.png\").convert(\"RGB\")  # load\n",
    "depth_numpy = zoe.infer_pil(image)  # as numpy\n",
    "\n",
    "depth_pil = zoe.infer_pil(image, output_type=\"pil\")  # as 16-bit PIL Image\n",
    "\n",
    "depth_tensor = zoe.infer_pil(image, output_type=\"tensor\")  # as torch tensor\n",
    "\n",
    "\n",
    "\n",
    "# Tensor \n",
    "from zoedepth.utils.misc import pil_to_batched_tensor\n",
    "X = pil_to_batched_tensor(image).to(DEVICE)\n",
    "depth_tensor = zoe.infer(X)\n",
    "\n",
    "\n",
    "\n",
    "# From URL\n",
    "from zoedepth.utils.misc import get_image_from_url\n",
    "\n",
    "# Example URL\n",
    "URL = \"https://encrypted-tbn0.gstatic.com/images?q=tbn:ANd9GcS4W8H_Nxk_rs3Vje_zj6mglPOH7bnPhQitBH8WkqjlqQVotdtDEG37BsnGofME3_u6lDk&usqp=CAU\"\n",
    "\n",
    "\n",
    "image = get_image_from_url(URL)  # fetch\n",
    "depth = zoe.infer_pil(image)\n",
    "\n",
    "# Save raw\n",
    "from zoedepth.utils.misc import save_raw_16bit\n",
    "fpath = \"/path/to/output.png\"\n",
    "save_raw_16bit(depth, fpath)\n",
    "\n",
    "# Colorize output\n",
    "from zoedepth.utils.misc import colorize\n",
    "\n",
    "colored = colorize(depth)\n",
    "\n",
    "# save colored output\n",
    "fpath_colored = \"/path/to/output_colored.png\"\n",
    "Image.fromarray(colored).save(fpath_colored)"
   ]
  },
  {
   "cell_type": "code",
   "execution_count": null,
   "id": "d37ec2f8-ddb7-4c07-882e-3499a5481653",
   "metadata": {},
   "outputs": [],
   "source": []
  }
 ],
 "metadata": {
  "kernelspec": {
   "display_name": "Python 3 (ipykernel)",
   "language": "python",
   "name": "python3"
  },
  "language_info": {
   "codemirror_mode": {
    "name": "ipython",
    "version": 3
   },
   "file_extension": ".py",
   "mimetype": "text/x-python",
   "name": "python",
   "nbconvert_exporter": "python",
   "pygments_lexer": "ipython3",
   "version": "3.10.11"
  }
 },
 "nbformat": 4,
 "nbformat_minor": 5
}
