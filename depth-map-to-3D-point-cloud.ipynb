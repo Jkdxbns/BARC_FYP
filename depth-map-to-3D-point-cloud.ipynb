{
 "cells": [
  {
   "cell_type": "code",
   "execution_count": 1,
   "metadata": {},
   "outputs": [],
   "source": [
    "\"\"\"\n",
    "This script reads a registered pair of color and depth images and generates a\n",
    "colored 3D point cloud in the PLY format.\n",
    "\"\"\"\n",
    "\n",
    "import argparse\n",
    "import sys\n",
    "import os\n",
    "from PIL import Image\n",
    "\n",
    "focalLength = 525.0\n",
    "centerX = 319.5\n",
    "centerY = 239.5\n",
    "scalingFactor = 1000.0"
   ]
  },
  {
   "cell_type": "code",
   "execution_count": 2,
   "metadata": {},
   "outputs": [],
   "source": [
    "\"\"\"\n",
    "METHOD-1:\n",
    "\n",
    "Generate a colored point cloud in PLY format from a color and a depth image.\n",
    "Input:\n",
    "    rgb_file -- filename of color image\n",
    "    depth_file -- filename of depth image\n",
    "    ply_file -- filename of ply file\n",
    "\"\"\"\n",
    "\n",
    "def generate_pointcloud_method1(rgb_file,depth_file,ply_file):\n",
    "    rgb = Image.open(rgb_file)\n",
    "    depth = Image.open(depth_file)\n",
    "    \n",
    "    if rgb.size != depth.size:\n",
    "        raise Exception(\"Color and depth image do not have the same resolution.\")\n",
    "    if rgb.mode != \"RGB\":\n",
    "        raise Exception(\"Color image is not in RGB format\")\n",
    "    if depth.mode != \"I\":\n",
    "        raise Exception(\"Depth image is not in intensity format\")\n",
    "\n",
    "\n",
    "    points = []    \n",
    "    for v in range(rgb.size[1]):\n",
    "        for u in range(rgb.size[0]):\n",
    "            color = rgb.getpixel((u,v))\n",
    "            Z = depth.getpixel((u,v)) / scalingFactor\n",
    "            if Z==0: continue\n",
    "            X = (u - centerX) * Z / focalLength\n",
    "            Y = (v - centerY) * Z / focalLength\n",
    "            points.append(\"%f %f %f %d %d %d 0\\n\"%(X,Y,Z,color[0],color[1],color[2]))\n",
    "    file = open(ply_file,\"w\")\n",
    "    file.write('''ply\n",
    "format ascii 1.0\n",
    "element vertex %d\n",
    "property float x\n",
    "property float y\n",
    "property float z\n",
    "property uchar red\n",
    "property uchar green\n",
    "property uchar blue\n",
    "property uchar alpha\n",
    "end_header\n",
    "%s\n",
    "'''%(len(points),\"\".join(points)))\n",
    "    file.close()\n"
   ]
  },
  {
   "cell_type": "code",
   "execution_count": 3,
   "metadata": {},
   "outputs": [
    {
     "name": "stdout",
     "output_type": "stream",
     "text": [
      "Enter rgb_file path, input color image (format: png)\n"
     ]
    },
    {
     "name": "stdin",
     "output_type": "stream",
     "text": [
      " ‪C:\\ASSIGNMENTS\\SEM 7\\project\\mid_barc\\42.00_13.50_3.53.png\n"
     ]
    }
   ],
   "source": [
    "print('Enter rgb_file path, input color image (format: png)')\n",
    "rgb_file = input()"
   ]
  },
  {
   "cell_type": "code",
   "execution_count": 4,
   "metadata": {},
   "outputs": [
    {
     "name": "stdout",
     "output_type": "stream",
     "text": [
      "Enter depth_file path, input depth image (format: png)\n"
     ]
    },
    {
     "name": "stdin",
     "output_type": "stream",
     "text": [
      " out.png\n"
     ]
    }
   ],
   "source": [
    "print('Enter depth_file path, input depth image (format: png)')\n",
    "rgb_file = input()"
   ]
  },
  {
   "cell_type": "code",
   "execution_count": 6,
   "metadata": {},
   "outputs": [
    {
     "name": "stdout",
     "output_type": "stream",
     "text": [
      "Enter ply_file path output PLY file (format: ply)\n"
     ]
    },
    {
     "name": "stdin",
     "output_type": "stream",
     "text": [
      " C:\\ASSIGNMENTS\\SEM 7\\project\\mid_barc\n"
     ]
    }
   ],
   "source": [
    "print('Enter ply_file path','output PLY file (format: ply)')\n",
    "rgb_file = input()"
   ]
  },
  {
   "cell_type": "code",
   "execution_count": 7,
   "metadata": {},
   "outputs": [
    {
     "ename": "NameError",
     "evalue": "name 'depth_file' is not defined",
     "output_type": "error",
     "traceback": [
      "\u001b[1;31m---------------------------------------------------------------------------\u001b[0m",
      "\u001b[1;31mNameError\u001b[0m                                 Traceback (most recent call last)",
      "Cell \u001b[1;32mIn[7], line 1\u001b[0m\n\u001b[1;32m----> 1\u001b[0m generate_pointcloud_method1(rgb_file,\u001b[43mdepth_file\u001b[49m,ply_file)\n",
      "\u001b[1;31mNameError\u001b[0m: name 'depth_file' is not defined"
     ]
    }
   ],
   "source": [
    "generate_pointcloud_method1(rgb_file,depth_file,ply_file)"
   ]
  },
  {
   "cell_type": "code",
   "execution_count": null,
   "metadata": {},
   "outputs": [],
   "source": []
  },
  {
   "cell_type": "code",
   "execution_count": null,
   "metadata": {},
   "outputs": [],
   "source": []
  }
 ],
 "metadata": {
  "kernelspec": {
   "display_name": "Python 3 (ipykernel)",
   "language": "python",
   "name": "python3"
  },
  "language_info": {
   "codemirror_mode": {
    "name": "ipython",
    "version": 3
   },
   "file_extension": ".py",
   "mimetype": "text/x-python",
   "name": "python",
   "nbconvert_exporter": "python",
   "pygments_lexer": "ipython3",
   "version": "3.10.11"
  }
 },
 "nbformat": 4,
 "nbformat_minor": 4
}
